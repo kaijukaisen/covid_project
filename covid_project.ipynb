{
    "metadata": {
        "kernelspec": {
            "name": "SQL",
            "display_name": "SQL",
            "language": "sql"
        },
        "language_info": {
            "name": "sql",
            "version": ""
        }
    },
    "nbformat_minor": 2,
    "nbformat": 4,
    "cells": [
        {
            "cell_type": "markdown",
            "source": [
                "This workbook focuses on using SQL to explore data."
            ],
            "metadata": {
                "azdata_cell_guid": "bd95b5b9-5977-4119-862b-2024bcc9fd26"
            },
            "attachments": {}
        },
        {
            "cell_type": "code",
            "source": [
                "-- Selecting the columns we are going to use and ordering by location and date\n",
                "SELECT location, date, total_cases, new_cases, total_deaths, population\n",
                "FROM covid_deaths\n",
                "ORDER BY 1, 2;"
            ],
            "metadata": {
                "azdata_cell_guid": "a7c2a5be-a632-41ef-a602-8357c4d171a2",
                "language": "sql"
            },
            "outputs": [],
            "execution_count": null
        },
        {
            "cell_type": "code",
            "source": [
                "SELECT location, date, total_cases, new_cases, total_deaths, population\n",
                "FROM covid_deaths\n",
                "WHERE population is not null\n",
                "ORDER BY 1,2;"
            ],
            "metadata": {
                "azdata_cell_guid": "a11ecc59-1da0-4b8e-9b48-98cfa86454b0",
                "language": "sql"
            },
            "outputs": [],
            "execution_count": null
        },
        {
            "cell_type": "markdown",
            "source": [
                "Selecting the columns I need and doing the math for death percentage for each country. Filtered out null population values to focus on just countries and no overall/world data. Additionally, the death\\_percentage column will be rounded 2 decimal places. The death\\_percentage column has null values at first because the first covid death in Afghanistan did not happen until March 22nd, 2020."
            ],
            "metadata": {
                "azdata_cell_guid": "469d4cb7-86a6-41bc-8a8a-5d40745432a7",
                "language": "sql"
            },
            "attachments": {}
        },
        {
            "cell_type": "code",
            "source": [
                "SELECT location, date, total_deaths, total_cases, round(((total_deaths / total_cases) * 100),2) AS death_percentage\n",
                "FROM covid_deaths\n",
                "WHERE population is not null\n",
                "ORDER BY 1,2;"
            ],
            "metadata": {
                "azdata_cell_guid": "673f9f8f-936f-4e7e-a1e0-5bf3f101db20",
                "language": "sql",
                "tags": []
            },
            "outputs": [],
            "execution_count": null
        },
        {
            "cell_type": "markdown",
            "source": [
                "United States death\\_percentage calculation"
            ],
            "metadata": {
                "azdata_cell_guid": "668484f8-d20e-4fe1-91a9-e11ae1b75401"
            },
            "attachments": {}
        },
        {
            "cell_type": "code",
            "source": [
                "SELECT location, date, total_deaths, total_cases, round(((total_deaths / total_cases) * 100),2) AS death_percentage\n",
                "FROM covid_deaths\n",
                "WHERE location like '%states%'\n",
                "ORDER BY 1,2;"
            ],
            "metadata": {
                "azdata_cell_guid": "7443c255-547c-4481-88cf-730f5d556401",
                "language": "sql",
                "tags": []
            },
            "outputs": [],
            "execution_count": null
        },
        {
            "cell_type": "markdown",
            "source": [
                "For reference, the data used in this project spans from January 1st, 2020 to July 30th, 2021."
            ],
            "metadata": {
                "azdata_cell_guid": "1afa9474-67b0-4011-9d4d-46a1c2544441"
            },
            "attachments": {}
        },
        {
            "cell_type": "code",
            "source": [
                "SELECT MIN(date) AS FirstDate, MAX(date) AS LastDate FROM covid_deaths;"
            ],
            "metadata": {
                "azdata_cell_guid": "bd3a6aa7-a54e-4386-8902-d83839208fc6",
                "language": "sql"
            },
            "outputs": [
                {
                    "output_type": "display_data",
                    "data": {
                        "text/html": "(1 row affected)"
                    },
                    "metadata": {}
                },
                {
                    "output_type": "display_data",
                    "data": {
                        "text/html": "Total execution time: 00:00:00.250"
                    },
                    "metadata": {}
                },
                {
                    "output_type": "execute_result",
                    "execution_count": 9,
                    "data": {
                        "application/vnd.dataresource+json": {
                            "schema": {
                                "fields": [
                                    {
                                        "name": "FirstDate"
                                    },
                                    {
                                        "name": "LastDate"
                                    }
                                ]
                            },
                            "data": [
                                {
                                    "0": "2020-01-01",
                                    "1": "2021-04-30"
                                }
                            ]
                        },
                        "text/html": "<table><tr><th>FirstDate</th><th>LastDate</th></tr><tr><td>2020-01-01</td><td>2021-04-30</td></tr></table>"
                    },
                    "metadata": {}
                }
            ],
            "execution_count": 9
        },
        {
            "cell_type": "code",
            "source": [
                "-- Total Cases vs Population (United States)\n",
                "\n",
                "SELECT location, date, total_cases, population, round(((total_cases / population) * 100),2) AS PercentPopulationInfected\n",
                "FROM covid_deaths\n",
                "WHERE location like '%states%'\n",
                "ORDER BY 1,2;"
            ],
            "metadata": {
                "azdata_cell_guid": "cd4cc0c3-ba8f-4c32-b261-1f39b9e30d79",
                "language": "sql",
                "tags": []
            },
            "outputs": [],
            "execution_count": null
        },
        {
            "cell_type": "code",
            "source": [
                "-- Total Cases vs Population (All Countries)\n",
                "\n",
                "SELECT location, date, total_cases, population, round(((total_cases / population) * 100),2) AS PercentPopulationInfected\n",
                "FROM covid_deaths\n",
                "WHERE population is not null\n",
                "ORDER BY 1,2;"
            ],
            "metadata": {
                "azdata_cell_guid": "8fe524d2-a2b8-47b0-b50a-50c761b00dc4",
                "language": "sql"
            },
            "outputs": [],
            "execution_count": null
        },
        {
            "cell_type": "code",
            "source": [
                "-- Which Countries Have The Highest Infection Rate Compared To The Population (Used in the dashboard)\n",
                "\n",
                "SELECT location, population, date, MAX(total_cases) AS HighestInfectionCount, MAX(total_cases / population) * 100 AS PercentPopulationInfected\n",
                "FROM covid_deaths\n",
                "GROUP BY location, population, date\n",
                "ORDER BY 5 DESC;\n",
                ""
            ],
            "metadata": {
                "azdata_cell_guid": "809ecddf-f5a7-4f8a-9581-b58999c194b6",
                "language": "sql",
                "tags": []
            },
            "outputs": [],
            "execution_count": null
        },
        {
            "cell_type": "code",
            "source": [
                "-- Countries With The Highest Death Count Per Population\n",
                "\n",
                "SELECT location, population, MAX(total_deaths) AS HighestDeathCount\n",
                "-- round(((MAX(total_deaths / population)) * 100),2) AS PercentPopulationPassed\n",
                "FROM covid_deaths\n",
                "WHERE continent is not null\n",
                "GROUP BY location, population\n",
                "ORDER BY 3 DESC;"
            ],
            "metadata": {
                "azdata_cell_guid": "4c6f0408-6b6c-47f6-9cb7-317e9c29835f",
                "language": "sql"
            },
            "outputs": [],
            "execution_count": null
        },
        {
            "cell_type": "code",
            "source": [
                "-- Continents With The Highest Death Count Per Population\n",
                "\n",
                "SELECT location, MAX(total_deaths) AS TotalDeathCount\n",
                "FROM covid_deaths\n",
                "WHERE continent is NULL\n",
                "GROUP BY location\n",
                "ORDER BY TotalDeathCount DESC;\n"
            ],
            "metadata": {
                "azdata_cell_guid": "7e36c437-bf0f-4eda-bfb4-54c86c4914d0",
                "language": "sql"
            },
            "outputs": [],
            "execution_count": null
        },
        {
            "cell_type": "code",
            "source": [
                "-- Shows which locations are being calculated into the North America data returned above\n",
                "\n",
                "SELECT location, continent, MAX(total_deaths) AS HighestDeathCount\n",
                "FROM covid_deaths\n",
                "WHERE continent = 'North America'\n",
                "GROUP BY continent, location\n",
                "ORDER BY HighestDeathCount DESC;"
            ],
            "metadata": {
                "azdata_cell_guid": "f853ed24-7436-4c1d-b4c1-efb8b9a1fe4b",
                "language": "sql"
            },
            "outputs": [],
            "execution_count": null
        },
        {
            "cell_type": "code",
            "source": [
                "-- Global Numbers Overall (Used in the dashboard)\n",
                "\n",
                "SELECT SUM(new_cases) AS TotalCases, SUM(new_deaths) AS TotalDeaths, ROUND((SUM(new_deaths)/SUM(new_cases) * 100),3) AS DeathPercentage\n",
                "FROM covid_deaths\n",
                "WHERE continent is not NULL \n",
                "ORDER BY 1, 2;"
            ],
            "metadata": {
                "azdata_cell_guid": "ac60ef53-3ac6-4409-8659-f0aec285d738",
                "language": "sql",
                "tags": []
            },
            "outputs": [
                {
                    "output_type": "display_data",
                    "data": {
                        "text/html": "Warning: Null value is eliminated by an aggregate or other SET operation."
                    },
                    "metadata": {}
                },
                {
                    "output_type": "display_data",
                    "data": {
                        "text/html": "(1 row affected)"
                    },
                    "metadata": {}
                },
                {
                    "output_type": "display_data",
                    "data": {
                        "text/html": "Total execution time: 00:00:00.229"
                    },
                    "metadata": {}
                },
                {
                    "output_type": "execute_result",
                    "execution_count": 8,
                    "data": {
                        "application/vnd.dataresource+json": {
                            "schema": {
                                "fields": [
                                    {
                                        "name": "TotalCases"
                                    },
                                    {
                                        "name": "TotalDeaths"
                                    },
                                    {
                                        "name": "DeathPercentage"
                                    }
                                ]
                            },
                            "data": [
                                {
                                    "0": "150574977",
                                    "1": "3180206",
                                    "2": "2.112"
                                }
                            ]
                        },
                        "text/html": "<table><tr><th>TotalCases</th><th>TotalDeaths</th><th>DeathPercentage</th></tr><tr><td>150574977</td><td>3180206</td><td>2.112</td></tr></table>"
                    },
                    "metadata": {}
                }
            ],
            "execution_count": 8
        },
        {
            "cell_type": "code",
            "source": [
                "-- Global Numbers By Date\n",
                "\n",
                "SELECT date, SUM(new_cases) AS TotalCases, SUM(new_deaths) AS TotalDeaths, ROUND((SUM(new_deaths)/SUM(new_cases) * 100),3) AS DeathPercentage\n",
                "FROM covid_deaths\n",
                "WHERE continent is not NULL \n",
                "GROUP BY date\n",
                "ORDER BY 1, 2;"
            ],
            "metadata": {
                "azdata_cell_guid": "2c711b2d-48cb-4f79-960c-fc53f3550d55",
                "language": "sql"
            },
            "outputs": [],
            "execution_count": null
        },
        {
            "cell_type": "code",
            "source": [
                "-- Total Death Count Excluding Redundant Values (Used in the dashboard)\n",
                "\n",
                "SELECT location, SUM(new_deaths) as TotalDeathCount\n",
                "FROM covid_deaths\n",
                "WHERE continent IS null \n",
                "AND location not in ('World', 'European Union', 'International')\n",
                "GROUP BY location\n",
                "ORDER BY TotalDeathCount DESC"
            ],
            "metadata": {
                "language": "sql",
                "azdata_cell_guid": "7ec0b1bd-74cd-4d97-b35d-603188413227",
                "tags": []
            },
            "outputs": [],
            "execution_count": null
        },
        {
            "cell_type": "code",
            "source": [
                "-- Examining the other table covid_vaccs\n",
                "\n",
                "SELECT *\n",
                "FROM covid_vaccs;"
            ],
            "metadata": {
                "azdata_cell_guid": "58626683-4c3f-4d0d-b015-a7200264eb21",
                "language": "sql"
            },
            "outputs": [],
            "execution_count": null
        },
        {
            "cell_type": "code",
            "source": [
                "-- Looking at total vaccinations vs total population after joining the covid_deaths and covid_vaccs tables\n",
                "\n",
                "SELECT dea.continent, dea.location, dea.date, dea.population, vac.new_vaccinations,\n",
                "SUM(vac.new_vaccinations) OVER (PARTITION BY dea.location ORDER BY dea.location, dea.date) AS RollingPeopleVaccinated\n",
                "FROM covid_deaths dea\n",
                "JOIN covid_vaccs vac\n",
                "        ON dea.location = vac.location\n",
                "        AND dea.date = vac.date\n",
                "WHERE dea.continent is not null\n",
                "ORDER BY 2,3;"
            ],
            "metadata": {
                "azdata_cell_guid": "b232bfca-8280-4f93-92d5-67b379c5812b",
                "language": "sql"
            },
            "outputs": [],
            "execution_count": null
        },
        {
            "cell_type": "code",
            "source": [
                "-- USE CTE\n",
                "\n",
                "WITH PopvsVac (Continent, Location, Date, Population, New_Vaccinations, RollingPeopleVaccinated)\n",
                "AS\n",
                "(\n",
                "SELECT dea.continent, dea.location, dea.date, dea.population, vac.new_vaccinations,\n",
                "SUM(vac.new_vaccinations) OVER (PARTITION BY dea.location ORDER BY dea.location, dea.date) AS RollingPeopleVaccinated\n",
                "FROM covid_deaths dea\n",
                "JOIN covid_vaccs vac\n",
                "        ON dea.location = vac.location\n",
                "        AND dea.date = vac.date\n",
                "WHERE dea.continent is not null\n",
                "--ORDER BY 2,3\n",
                ")\n",
                "SELECT *, (RollingPeopleVaccinated/Population)*100 \n",
                "FROM PopvsVac"
            ],
            "metadata": {
                "azdata_cell_guid": "4bc32f09-aac9-461d-8e9e-cac358beaf8d",
                "language": "sql"
            },
            "outputs": [],
            "execution_count": null
        },
        {
            "cell_type": "code",
            "source": [
                "-- USE TEMP TABLE\n",
                "\n",
                "DROP TABLE IF EXISTS #PercentPopulationVaccinated\n",
                "\n",
                "CREATE TABLE #PercentPopulationVaccinated\n",
                "(\n",
                "Continent nvarchar(255),\n",
                "Location nvarchar(255),\n",
                "Date date,\n",
                "Population numeric,\n",
                "New_Vaccinations numeric,\n",
                "RollingPeopleVaccinated numeric\n",
                ")\n",
                "\n",
                "INSERT INTO #PercentPopulationVaccinated\n",
                "SELECT dea.continent, dea.location, dea.date, dea.population, vac.new_vaccinations,\n",
                "SUM(vac.new_vaccinations) OVER (PARTITION BY dea.location ORDER BY dea.location, dea.date) AS RollingPeopleVaccinated\n",
                "FROM covid_deaths dea\n",
                "JOIN covid_vaccs vac\n",
                "        ON dea.location = vac.location\n",
                "        AND dea.date = vac.date\n",
                "-- WHERE dea.continent is not null\n",
                "--ORDER BY 2,3\n",
                "\n",
                "\n",
                "SELECT *, (RollingPeopleVaccinated/Population)*100 AS PercentPopVaccinated\n",
                "FROM #PercentPopulationVaccinated"
            ],
            "metadata": {
                "azdata_cell_guid": "0ea5c99c-2cee-4d97-9a1e-e2d4484dadec",
                "language": "sql",
                "tags": []
            },
            "outputs": [],
            "execution_count": null
        },
        {
            "cell_type": "code",
            "source": [
                "-- Creating view to store data for later visualizations\n",
                "\n",
                "CREATE VIEW PercentPopulationVaccinated AS\n",
                "\n",
                "SELECT dea.continent, dea.location, dea.date, dea.population, vac.new_vaccinations,\n",
                "SUM(vac.new_vaccinations) OVER (PARTITION BY dea.location ORDER BY dea.location, dea.date) AS RollingPeopleVaccinated\n",
                "FROM covid_deaths dea\n",
                "JOIN covid_vaccs vac\n",
                "        ON dea.location = vac.location\n",
                "        AND dea.date = vac.date\n",
                "WHERE dea.continent is not null\n",
                "-- ORDER BY 2,3"
            ],
            "metadata": {
                "azdata_cell_guid": "401b7830-4dcd-4b10-8b33-e4bedf32538f",
                "language": "sql"
            },
            "outputs": [
                {
                    "output_type": "display_data",
                    "data": {
                        "text/html": "Commands completed successfully."
                    },
                    "metadata": {}
                },
                {
                    "output_type": "display_data",
                    "data": {
                        "text/html": "Total execution time: 00:00:00.205"
                    },
                    "metadata": {}
                }
            ],
            "execution_count": 37
        }
    ]
}